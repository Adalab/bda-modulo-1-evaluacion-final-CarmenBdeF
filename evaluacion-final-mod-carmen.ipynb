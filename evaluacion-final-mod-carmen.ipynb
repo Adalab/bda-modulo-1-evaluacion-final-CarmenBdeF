{
 "cells": [
  {
   "cell_type": "markdown",
   "id": "c84372ae",
   "metadata": {},
   "source": [
    "# Evaluación Final Módulo 1 Data Analytics"
   ]
  },
  {
   "cell_type": "markdown",
   "id": "c202f0e8",
   "metadata": {},
   "source": [
    "Python Básico\n",
    "-  Condicionales (if, elif, else)*\n",
    "-  Bucles (for y while). Importante entender cómo iterar por una lista, o un diccionario. *\n",
    "-  Funciones (creación de funciones con parámetros, parámetros por defecto)*\n",
    "-  Conceptos básicos de regex\n",
    "Clases\n",
    "-  Diferencias entre los distintos tipos de datos en python (strings, listas, tuplas, sets y diccionarios)\n",
    "-  Otros criterios a tener en cuenta\n",
    "-  Usar inglés para nombres de variables, funciones, clases, mensajes de commit, nombres de ficheros.\n",
    "-  El repositorio de GitHub debe tener README explicando muy brevemente cómo arrancar el proyecto."
   ]
  },
  {
   "cell_type": "code",
   "execution_count": null,
   "id": "e281b829",
   "metadata": {},
   "outputs": [],
   "source": [
    "'''Crear tienda online:\n",
    "Atributos tienda: \n",
    "\n",
    "1. inventario (lista de diccionarios): Un atributo para almacenar los productos en el inventario. Cada producto debe ser representado como un diccionario con las siguientes claves:\n",
    "'nombre', 'precio', y 'cantidad'. Al principio deberá ser una lista vacía. Ejemplo de como debería ser:\n",
    "\n",
    "    [{'nombre': 'Camisa', 'precio': 20, 'cantidad': 40}, \n",
    "    {'nombre': 'Pantalón', 'precio': 30, 'cantidad': 30}] \n",
    "\n",
    "\n",
    "\n",
    "\n",
    "\n",
    "\n",
    "'''\n"
   ]
  },
  {
   "cell_type": "code",
   "execution_count": 1,
   "id": "a097dcb5",
   "metadata": {},
   "outputs": [],
   "source": [
    "class Ecommerce():\n",
    "    def __init__(self, name):\n",
    "        self.name = name\n",
    "        self.inventory = {}\n",
    "        self.total_sales = 0.0\n",
    "\n",
    "    def add_product (self, product_id, name, price, stock):\n",
    "        if product_id not in self.inventory.keys():\n",
    "            self.inventory[product_id] = [name, price, stock]\n",
    "            print(f\"El producto '{name}' ha sido agregado con éxito.\")\n",
    "            return self.products\n",
    "        else:\n",
    "            print(f\"El producto con ID {product_id} ya existe en el inventario.\")  "
   ]
  }
 ],
 "metadata": {
  "kernelspec": {
   "display_name": "base",
   "language": "python",
   "name": "python3"
  },
  "language_info": {
   "codemirror_mode": {
    "name": "ipython",
    "version": 3
   },
   "file_extension": ".py",
   "mimetype": "text/x-python",
   "name": "python",
   "nbconvert_exporter": "python",
   "pygments_lexer": "ipython3",
   "version": "3.12.7"
  }
 },
 "nbformat": 4,
 "nbformat_minor": 5
}
