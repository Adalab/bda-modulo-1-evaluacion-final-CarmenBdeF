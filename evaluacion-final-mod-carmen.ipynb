{
 "cells": [
  {
   "cell_type": "markdown",
   "id": "c84372ae",
   "metadata": {},
   "source": [
    "# Evaluación Final Módulo 1 Data Analytics"
   ]
  },
  {
   "cell_type": "markdown",
   "id": "c202f0e8",
   "metadata": {},
   "source": [
    "Python Básico\n",
    "-  Condicionales (if, elif, else)*\n",
    "-  Bucles (for y while). Importante entender cómo iterar por una lista, o un diccionario. *\n",
    "-  Funciones (creación de funciones con parámetros, parámetros por defecto)*\n",
    "-  Conceptos básicos de regex\n",
    "Clases\n",
    "-  Diferencias entre los distintos tipos de datos en python (strings, listas, tuplas, sets y diccionarios)\n",
    "-  Otros criterios a tener en cuenta\n",
    "-  Usar inglés para nombres de variables, funciones, clases, mensajes de commit, nombres de ficheros.\n",
    "-  El repositorio de GitHub debe tener README explicando muy brevemente cómo arrancar el proyecto."
   ]
  },
  {
   "cell_type": "code",
   "execution_count": 1,
   "id": "4f5efc69",
   "metadata": {},
   "outputs": [],
   "source": [
    "class Ecommerce:\n",
    "\n",
    "    \"\"\"Clase para gestionar un inventario de productos en un e-commerce.\"\"\"\n",
    "\n",
    "    def __init__(self, name):\n",
    "        \"\"\"Inicializa la tienda con nombre, inventario vacío y ventas en 0.0\"\"\"\n",
    "\n",
    "        self.name = name\n",
    "        self.inventory = []                              # Lista vacía (de diccionarios)\n",
    "        self.total_sales = 0.0                           # Float\n",
    "\n",
    "    def add_product(self, name, price, stock): \n",
    "        \"\"\"Busca si un producto en el inventario. Si existe, lo actualiza, si no, lo crea\"\"\"\n",
    "        for product in self.inventory:  # Bucle for para buscar producto\n",
    "            if product['name'].lower() == name.lower(): # Programación defensiva\n",
    "                product['stock'] += stock\n",
    "                print(f\"{name} stock updated.\")\n",
    "                return # Paro el bucle\n",
    "            \n",
    "        self.inventory.append({'name': name, 'price': price, 'stock': stock})\n",
    "        print(f\"{name} added to inventory.\")\n",
    "        return # Paro el método\n",
    "\n",
    "    def obtain_inventory(self):\n",
    "        \"\"\"Si el inventario está vacío, muestra un mensaje. Sino, imprime todos los productos.\"\"\"\n",
    "\n",
    "        if not self.inventory:\n",
    "            print(\"Inventory is empty.\")\n",
    "        for product in self.inventory: #Itera por el inventario para buscar el producto\n",
    "            print(f\"Name: {product['name']}, Price: ${product['price']}, Stock: {product['stock']}\")\n",
    "\n",
    "    def search_product(self, name):\n",
    "        \"\"\"Busca un producto específico dentro del inventario (lista de diccionarios).\"\"\"\n",
    "\n",
    "        for product in self.inventory:\n",
    "            if product['name'].lower() == name.lower():\n",
    "                print(f\"Name: {product['name']}, Price: ${product['price']}, Stock: {product['stock']}\")\n",
    "                \n",
    "        print(f\"{name} not found in inventory.\")\n",
    "\n",
    "    def update_stock(self, name, stock):  \n",
    "        \"\"\" Añade 'stock' al producto si existe. Si no, informa que no se encontró.\"\"\"\n",
    "\n",
    "        for product in self.inventory: # Iteramos por el inventario\n",
    "            if product['name'].lower() == name.lower(): # Programación defensiva\n",
    "                product['stock'] += stock # Accedemos a la clave stock y añadimos el valor\n",
    "                print(f\"Stock updated. {name} now has {product['stock']} units.\")\n",
    "                \n",
    "        print(f\"{name} not found in inventory.\")\n",
    "\n",
    "    def delete_product(self, name):\n",
    "        \"\"\"Elimina un producto del inventario. Si no existe, muestra un mensaje.\"\"\"\n",
    "\n",
    "        for product in self.inventory:  \n",
    "            if product['name'].lower() == name.lower(): # Programación defensiva\n",
    "                self.inventory.remove(product)\n",
    "                print(f\"{name} has been removed from inventory.\")\n",
    "               \n",
    "        print(f\"{name} not found in inventory.\")\n",
    "\n",
    "    def sum_total_inventory(self):\n",
    "        \"\"\"Calcula y muestra el valor total del inventario (lista de diccionarios),sumando precio * cantidad de cada producto.\"\"\"\n",
    "\n",
    "        total_value = 0.0\n",
    "        for product in self.inventory:\n",
    "            total_value += product['price'] * product['stock']\n",
    "        print(f\"Total inventory value: ${total_value}\")\n",
    "        return total_value\n",
    "\n"
   ]
  },
  {
   "cell_type": "code",
   "execution_count": 2,
   "id": "87ba2a21",
   "metadata": {},
   "outputs": [
    {
     "name": "stdout",
     "output_type": "stream",
     "text": [
      "{'name': 'MetalHeads of Spain', 'inventory': [], 'total_sales': 0.0}\n",
      "--------------------\n",
      "Camisa added to inventory.\n",
      "Pantalón added to inventory.\n",
      "Zapatos added to inventory.\n",
      "--------------------\n",
      "Name: Camisa, Price: $20, Stock: 40\n",
      "Camisa not found in inventory.\n",
      "Calcetines not found in inventory.\n",
      "--------------------\n",
      "Stock updated. Camisa now has 50 units.\n",
      "Camisa not found in inventory.\n",
      "Stock updated. Zapatos now has 5 units.\n",
      "Zapatos not found in inventory.\n",
      "--------------------\n",
      "Name: Camisa, Price: $20, Stock: 50\n",
      "Name: Pantalón, Price: $30, Stock: 30\n",
      "Name: Zapatos, Price: $50, Stock: 5\n",
      "--------------------\n",
      "Total inventory value: $2150.0\n"
     ]
    },
    {
     "data": {
      "text/plain": [
       "2150.0"
      ]
     },
     "execution_count": 2,
     "metadata": {},
     "output_type": "execute_result"
    }
   ],
   "source": [
    "my_store = Ecommerce(\"MetalHeads of Spain\")\n",
    "print(my_store.__dict__)\n",
    "\n",
    "print(\"--------------------\")\n",
    "\n",
    "my_store.add_product(\"Camisa\", 20, 40)\n",
    "my_store.add_product(\"Pantalón\", 30, 30)\n",
    "my_store.add_product(\"Zapatos\", 50, 10)\n",
    "\n",
    "print(\"--------------------\")\n",
    "\n",
    "my_store.search_product(\"Camisa\")\n",
    "my_store.search_product(\"Calcetines\")\n",
    "\n",
    "print(\"--------------------\")\n",
    "\n",
    "my_store.update_stock(\"Camisa\", 10)\n",
    "my_store.update_stock(\"Zapatos\", -5)\n",
    "\n",
    "print(\"--------------------\")\n",
    "\n",
    "my_store.obtain_inventory()\n",
    "\n",
    "print(\"--------------------\")\n",
    "\n",
    "my_store.sum_total_inventory()"
   ]
  }
 ],
 "metadata": {
  "kernelspec": {
   "display_name": "base",
   "language": "python",
   "name": "python3"
  },
  "language_info": {
   "codemirror_mode": {
    "name": "ipython",
    "version": 3
   },
   "file_extension": ".py",
   "mimetype": "text/x-python",
   "name": "python",
   "nbconvert_exporter": "python",
   "pygments_lexer": "ipython3",
   "version": "3.12.7"
  }
 },
 "nbformat": 4,
 "nbformat_minor": 5
}
