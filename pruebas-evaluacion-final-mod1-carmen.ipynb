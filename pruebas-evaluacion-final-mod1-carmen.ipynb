{
 "cells": [
  {
   "cell_type": "code",
   "execution_count": 2,
   "id": "c7139b95",
   "metadata": {},
   "outputs": [],
   "source": [
    "class Ecommerce:\n",
    "\n",
    "    \"\"\"Clase para gestionar un inventario de productos en un e-commerce.\"\"\"\n",
    "\n",
    "    def __init__(self, name):\n",
    "        \"\"\"Inicializa la tienda con nombre, inventario vacío y ventas en 0.0\"\"\"\n",
    "\n",
    "        self.name = name\n",
    "        self.inventory = []                              # Lista vacía (de diccionarios)\n",
    "        self.total_sales = 0.0                           # Float\n",
    "\n",
    "    def add_product(self, name, price, stock): \n",
    "        \"\"\"Busca si un producto en el inventario. Si existe, lo actualiza, si no, lo crea\"\"\"\n",
    "        for product in self.inventory:  # Bucle for para buscar producto\n",
    "            if product['name'].lower() == name.lower(): # Programación defensiva\n",
    "                product['stock'] += stock\n",
    "                print(f\"{name} stock updated.\")\n",
    "                return # Paro el bucle\n",
    "            \n",
    "        self.inventory.append({'name': name, 'price': price, 'stock': stock})\n",
    "        print(f\"{name} added to inventory.\")\n",
    "        return # Paro el método\n",
    "\n",
    "    def obtain_inventory(self):\n",
    "        \"\"\"Si el inventario está vacío, muestra un mensaje. Sino, imprime todos los productos.\"\"\"\n",
    "\n",
    "        if not self.inventory:\n",
    "            print(\"Inventory is empty.\")\n",
    "        for product in self.inventory: #Itera por el inventario para buscar el producto\n",
    "            print(f\"Name: {product['name']}, Price: ${product['price']}, Stock: {product['stock']}\")\n",
    "\n",
    "    def search_product(self, name):\n",
    "        \"\"\"Busca un producto específico dentro del inventario (lista de diccionarios).\"\"\"\n",
    "\n",
    "        for product in self.inventory:\n",
    "            if product['name'].lower() == name.lower():\n",
    "                print(f\"Name: {product['name']}, Price: ${product['price']}, Stock: {product['stock']}\")\n",
    "                \n",
    "        print(f\"{name} not found in inventory.\")\n",
    "\n",
    "    def update_stock(self, name, stock):  \n",
    "        \"\"\" Añade 'stock' al producto si existe. Si no, informa que no se encontró.\"\"\"\n",
    "\n",
    "        for product in self.inventory: # Iteramos por el inventario\n",
    "            if product['name'].lower() == name.lower(): # Programación defensiva\n",
    "                product['stock'] += stock # Accedemos a la clave stock y añadimos el valor\n",
    "                print(f\"Stock updated. {name} now has {product['stock']} units.\")\n",
    "                \n",
    "        print(f\"{name} not found in inventory.\")\n",
    "\n",
    "    def delete_product(self, name):\n",
    "        \"\"\"Elimina un producto del inventario. Si no existe, muestra un mensaje.\"\"\"\n",
    "\n",
    "        for product in self.inventory:  \n",
    "            if product['name'].lower() == name.lower(): # Programación defensiva\n",
    "                self.inventory.remove(product)\n",
    "                print(f\"{name} has been removed from inventory.\")\n",
    "               \n",
    "        print(f\"{name} not found in inventory.\")\n",
    "\n",
    "    def sum_inventory_value(self):\n",
    "        \"\"\"Calcula y muestra el valor total del inventario (lista de diccionarios),sumando precio * cantidad de cada producto.\"\"\"\n",
    "\n",
    "        total_value = 0.0\n",
    "        for product in self.inventory:\n",
    "            total_value += product['price'] * product['stock']\n",
    "        print(f\"Total inventory value: ${total_value}\")\n",
    "        return total_value\n",
    "\n"
   ]
  },
  {
   "cell_type": "code",
   "execution_count": 4,
   "id": "4e1be6a1",
   "metadata": {},
   "outputs": [
    {
     "name": "stdout",
     "output_type": "stream",
     "text": [
      "{'name': 'MetalHeads of Spain', 'inventory': [], 'total_sales': 0.0}\n",
      "--------------------\n",
      "Camisa added to inventory.\n",
      "Pantalón added to inventory.\n",
      "Zapatos added to inventory.\n",
      "--------------------\n",
      "Name: Camisa, Price: $20, Stock: 40\n",
      "Camisa not found in inventory.\n",
      "Calcetines not found in inventory.\n",
      "--------------------\n",
      "Stock updated. Camisa now has 50 units.\n",
      "Camisa not found in inventory.\n",
      "Stock updated. Zapatos now has 5 units.\n",
      "Zapatos not found in inventory.\n",
      "--------------------\n",
      "Name: Camisa, Price: $20, Stock: 50\n",
      "Name: Pantalón, Price: $30, Stock: 30\n",
      "Name: Zapatos, Price: $50, Stock: 5\n",
      "--------------------\n"
     ]
    },
    {
     "data": {
      "text/plain": [
       "<bound method Ecommerce.sum_inventory_value of <__main__.Ecommerce object at 0x79c0404edfa0>>"
      ]
     },
     "execution_count": 4,
     "metadata": {},
     "output_type": "execute_result"
    }
   ],
   "source": [
    "my_store = Ecommerce(\"MetalHeads of Spain\")\n",
    "print(my_store.__dict__)\n",
    "\n",
    "print(\"--------------------\")\n",
    "\n",
    "my_store.add_product(\"Camisa\", 20, 40)\n",
    "my_store.add_product(\"Pantalón\", 30, 30)\n",
    "my_store.add_product(\"Zapatos\", 50, 10)\n",
    "\n",
    "print(\"--------------------\")\n",
    "\n",
    "my_store.search_product(\"Camisa\")\n",
    "my_store.search_product(\"Calcetines\")\n",
    "\n",
    "print(\"--------------------\")\n",
    "\n",
    "my_store.update_stock(\"Camisa\", 10)\n",
    "my_store.update_stock(\"Zapatos\", -5)\n",
    "\n",
    "print(\"--------------------\")\n",
    "\n",
    "my_store.obtain_inventory()\n",
    "\n",
    "print(\"--------------------\")\n",
    "\n",
    "my_store.sum_inventory_value\n",
    "\n"
   ]
  },
  {
   "cell_type": "code",
   "execution_count": 5,
   "id": "00b342e3",
   "metadata": {},
   "outputs": [
    {
     "name": "stdout",
     "output_type": "stream",
     "text": [
      "{'name': 'MetalHeads of Spain', 'inventory': [], 'total_sales': 0.0}\n"
     ]
    }
   ],
   "source": [
    "# Crear instancia y acceder a atributos\n",
    "\n",
    "my_store = Ecommerce(\"MetalHeads of Spain\")\n",
    "print(my_store.__dict__)"
   ]
  },
  {
   "cell_type": "code",
   "execution_count": 6,
   "id": "ec5014cb",
   "metadata": {},
   "outputs": [
    {
     "name": "stdout",
     "output_type": "stream",
     "text": [
      "Camisa added to inventory.\n"
     ]
    }
   ],
   "source": [
    "my_store.add_product(\"Camisa\", 20, 40)"
   ]
  },
  {
   "cell_type": "code",
   "execution_count": 7,
   "id": "fe1da2d7",
   "metadata": {},
   "outputs": [
    {
     "name": "stdout",
     "output_type": "stream",
     "text": [
      "Pantalón added to inventory.\n"
     ]
    }
   ],
   "source": [
    "my_store.add_product(\"Pantalón\", 30, 30)"
   ]
  },
  {
   "cell_type": "code",
   "execution_count": 8,
   "id": "b3628347",
   "metadata": {},
   "outputs": [
    {
     "name": "stdout",
     "output_type": "stream",
     "text": [
      "Zapatos added to inventory.\n"
     ]
    }
   ],
   "source": [
    "my_store.add_product(\"Zapatos\", 50, 10)"
   ]
  },
  {
   "cell_type": "code",
   "execution_count": 9,
   "id": "b8552261",
   "metadata": {},
   "outputs": [
    {
     "name": "stdout",
     "output_type": "stream",
     "text": [
      "Name: Camisa, Price: $20, Stock: 40\n",
      "Name: Pantalón, Price: $30, Stock: 30\n",
      "Name: Zapatos, Price: $50, Stock: 10\n"
     ]
    }
   ],
   "source": [
    "#Ver inventario\n",
    "\n",
    "my_store.obtain_inventory()"
   ]
  },
  {
   "cell_type": "code",
   "execution_count": 10,
   "id": "6efb981b",
   "metadata": {},
   "outputs": [
    {
     "name": "stdout",
     "output_type": "stream",
     "text": [
      "Name: Camisa, Price: $20, Stock: 40\n",
      "Camisa not found in inventory.\n",
      "Calcetines not found in inventory.\n"
     ]
    }
   ],
   "source": [
    "# Buscar un producto\n",
    "my_store.search_product(\"Camisa\")\n",
    "my_store.search_product(\"Calcetines\")"
   ]
  },
  {
   "cell_type": "code",
   "execution_count": 11,
   "id": "f8c3c2a1",
   "metadata": {},
   "outputs": [
    {
     "name": "stdout",
     "output_type": "stream",
     "text": [
      "Stock updated. Camisa now has 50 units.\n",
      "Camisa not found in inventory.\n",
      "Stock updated. Zapatos now has 5 units.\n",
      "Zapatos not found in inventory.\n"
     ]
    }
   ],
   "source": [
    "# Actualizar stock\n",
    "my_store.update_stock(\"Camisa\", 10)\n",
    "my_store.update_stock(\"Zapatos\", -5)"
   ]
  },
  {
   "cell_type": "code",
   "execution_count": 12,
   "id": "f2755659",
   "metadata": {},
   "outputs": [
    {
     "name": "stdout",
     "output_type": "stream",
     "text": [
      "Name: Camisa, Price: $20, Stock: 50\n",
      "Name: Pantalón, Price: $30, Stock: 30\n",
      "Name: Zapatos, Price: $50, Stock: 5\n"
     ]
    }
   ],
   "source": [
    "# Ver inventario actualizado\n",
    "my_store.obtain_inventory()"
   ]
  },
  {
   "cell_type": "code",
   "execution_count": 13,
   "id": "2daf5829",
   "metadata": {},
   "outputs": [
    {
     "name": "stdout",
     "output_type": "stream",
     "text": [
      "Pantalón has been removed from inventory.\n",
      "Pantalón not found in inventory.\n",
      "Sombrero not found in inventory.\n"
     ]
    }
   ],
   "source": [
    "my_store.delete_product(\"Pantalón\")\n",
    "my_store.delete_product(\"Sombrero\")"
   ]
  },
  {
   "cell_type": "code",
   "execution_count": 14,
   "id": "25ccb255",
   "metadata": {},
   "outputs": [
    {
     "name": "stdout",
     "output_type": "stream",
     "text": [
      "Total inventory value: $1250.0\n"
     ]
    },
    {
     "data": {
      "text/plain": [
       "1250.0"
      ]
     },
     "execution_count": 14,
     "metadata": {},
     "output_type": "execute_result"
    }
   ],
   "source": [
    "# Calcular valor total del inventario\n",
    "my_store.sum_inventory_value()"
   ]
  },
  {
   "cell_type": "code",
   "execution_count": 15,
   "id": "7f9462e1",
   "metadata": {},
   "outputs": [
    {
     "data": {
      "text/plain": [
       "3"
      ]
     },
     "execution_count": 15,
     "metadata": {},
     "output_type": "execute_result"
    }
   ],
   "source": [
    "inventory = [{'name': 'Camisa', 'price': 20, 'stock': 50}, {'name': 'Pantalón', 'price': 30, 'stock': 30}, {'name': 'Zapatos', 'price': 50, 'stock': 5}]\n",
    "\n",
    "len(inventory)"
   ]
  },
  {
   "cell_type": "code",
   "execution_count": 16,
   "id": "9da5c2e3",
   "metadata": {},
   "outputs": [
    {
     "data": {
      "text/plain": [
       "[{'name': 'Camisa', 'price': 20, 'stock': 50},\n",
       " {'name': 'Pantalón', 'price': 30, 'stock': 30},\n",
       " {'name': 'Zapatos', 'price': 50, 'stock': 5}]"
      ]
     },
     "execution_count": 16,
     "metadata": {},
     "output_type": "execute_result"
    }
   ],
   "source": [
    "list(inventory)"
   ]
  },
  {
   "cell_type": "code",
   "execution_count": 17,
   "id": "98d85244",
   "metadata": {},
   "outputs": [
    {
     "data": {
      "text/plain": [
       "True"
      ]
     },
     "execution_count": 17,
     "metadata": {},
     "output_type": "execute_result"
    }
   ],
   "source": [
    "{'name': 'Camisa', 'price': 20, 'stock': 50} in inventory\n",
    "{'name': 'Pantalón', 'price': 30, 'stock': 30} in inventory\n",
    "{'name': 'Zapatos', 'price': 50, 'stock': 5} in inventory\n"
   ]
  },
  {
   "cell_type": "code",
   "execution_count": 18,
   "id": "f7dec960",
   "metadata": {},
   "outputs": [
    {
     "data": {
      "text/plain": [
       "False"
      ]
     },
     "execution_count": 18,
     "metadata": {},
     "output_type": "execute_result"
    }
   ],
   "source": [
    "{'name': 'Camisa', 'price': 20, 'stock': 5} in inventory"
   ]
  },
  {
   "cell_type": "code",
   "execution_count": 19,
   "id": "484c56d1",
   "metadata": {},
   "outputs": [
    {
     "data": {
      "text/plain": [
       "True"
      ]
     },
     "execution_count": 19,
     "metadata": {},
     "output_type": "execute_result"
    }
   ],
   "source": [
    "isinstance(inventory, list)"
   ]
  }
 ],
 "metadata": {
  "kernelspec": {
   "display_name": "base",
   "language": "python",
   "name": "python3"
  },
  "language_info": {
   "codemirror_mode": {
    "name": "ipython",
    "version": 3
   },
   "file_extension": ".py",
   "mimetype": "text/x-python",
   "name": "python",
   "nbconvert_exporter": "python",
   "pygments_lexer": "ipython3",
   "version": "3.12.7"
  }
 },
 "nbformat": 4,
 "nbformat_minor": 5
}
