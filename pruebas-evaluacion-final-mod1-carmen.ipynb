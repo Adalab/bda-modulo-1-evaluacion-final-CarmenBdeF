{
 "cells": [
  {
   "cell_type": "code",
   "execution_count": 190,
   "id": "5cb62e61",
   "metadata": {},
   "outputs": [],
   "source": [
    "# Crear Clase\n",
    "# English\n",
    "# Atributes: inventory (empty list of dictionaries) and total_sales (float)\n",
    "\n",
    "class Ecommerce():\n",
    "    def __init__(self, name):\n",
    "        self.name = name\n",
    "        self.product_id = {}\n",
    "        self.inventory = []  # ojo! LISTA de diccionarios\n",
    "        self.total_sales = 0.0 #float\n",
    "\n",
    "\n",
    "    def add_product (self, product_id, name, price, stock):\n",
    "\n",
    "        if product_id in self.inventory:\n",
    "            print(product_id)\n",
    "            print(self.inventory)\n",
    "            if self.inventory[product_id][1] > 0:\n",
    "                product_id = len(self.inventory) + 1\n",
    "                self.inventory.append({\"product_id\": product_id, \"name\": name, \"price\": price, \"stock\": stock})\n",
    "                self.inventory[product_id][1] < 0\n",
    "                print(f\"Venta realizada con éxito. ID de venta: {id_venta}\")\n",
    "                return self.inventory\n",
    "            else:\n",
    "                # Si no hay suficiente stock, muestra un mensaje de error\n",
    "                print(\"No hay suficiente stock para realizar la venta.\")\n",
    "        else:\n",
    "            # Si el cliente o el producto no existen, muestra un mensaje de error\n",
    "            print(\"Cliente o producto no encontrados en la base de datos.\")\n",
    "\n",
    "\n",
    "\n",
    "\n",
    "\n",
    "\n",
    "    '''def add_product (self, product_id, name, price, stock):\n",
    "        # Verificar si el product_id existe en el inventory\n",
    "        print(product_id)\n",
    "        print(self.inventory)\n",
    "        #print(product_id not in self.inventory)\n",
    "    \n",
    "        if len(self.inventory)==0:\n",
    "            self.inventory.append({\"product_id\": product_id, \"name\": name, \"price\": price, \"stock\": stock}) \n",
    "        else:\n",
    "            for elem in self.inventory:\n",
    "                #esta product_id?\n",
    "                    #esta=True\n",
    "                    #contenido del producto\n",
    "\n",
    "\n",
    "            # if !esta : append\n",
    "            # else  contenido del producto self.inventory[]= {\"product_id\": product_id, \"name\": name, \"price\": price, \"stock\": stock}\n",
    "            if product_id != elem.product_id:\n",
    "                # Si no existe, agrega el producto como diccionario dentro de la lista del inventario (recuerda que al ser una lista necesitas método pertinen)\n",
    "                self.inventory.append({\"product_id\": product_id, \"name\": name, \"price\": price, \"stock\": stock}) \n",
    "                                                \n",
    "                # Imprime un mensaje de éxito con el nombre del producto\n",
    "                print(f\"El producto '{name}' ha sido agregado con éxito.\")\n",
    "                # Devuelve el diccionario de productos actualizado'''\n",
    "\n",
    "\n",
    "\n"
   ]
  },
  {
   "cell_type": "code",
   "execution_count": 2,
   "id": "1ce7fbc4",
   "metadata": {},
   "outputs": [],
   "source": [
    "# inventory = [{'nombre': 'Camisa', 'precio': 20, 'cantidad': 40}, {'nombre': 'Pantalón', 'precio': 30, 'cantidad': 30}]\n",
    "# product = name, price, stock\n",
    "\n",
    "# inventory para inventario general, stock para cantidad de producto"
   ]
  },
  {
   "cell_type": "code",
   "execution_count": 105,
   "id": "16a1f2cc",
   "metadata": {},
   "outputs": [
    {
     "data": {
      "text/plain": [
       "'def add_product (self, product_id, name, price, stock):\\n        # Para verifica si el \\'product_id\\' no existe en el diccionario de productos\\n        if product_id not in self.inventory:\\n            # Si no existe, agrega el producto al diccionario con sus atributos\\n            self.inventory[product_id] = [name, price, stock]\\n            # Imprime un mensaje de éxito con el nombre del producto\\n            print(f\"El producto \\'{name}\\' ha sido agregado con éxito.\")\\n            # Devuelve el diccionario de productos actualizado\\n            return self.products\\n        else:\\n            # Si el \\'id_producto\\' ya existe, muestra un mensaje de error\\n            print(f\"El producto con ID {product_id} ya existe en el inventario.\")'"
      ]
     },
     "execution_count": 105,
     "metadata": {},
     "output_type": "execute_result"
    }
   ],
   "source": [
    "'''def add_product (self, product_id, name, price, stock):\n",
    "        # Para verifica si el 'product_id' no existe en el diccionario de productos\n",
    "        if product_id not in self.inventory:\n",
    "            # Si no existe, agrega el producto al diccionario con sus atributos\n",
    "            self.inventory[product_id] = [name, price, stock]\n",
    "            # Imprime un mensaje de éxito con el nombre del producto\n",
    "            print(f\"El producto '{name}' ha sido agregado con éxito.\")\n",
    "            # Devuelve el diccionario de productos actualizado\n",
    "            return self.products\n",
    "        else:\n",
    "            # Si el 'id_producto' ya existe, muestra un mensaje de error\n",
    "            print(f\"El producto con ID {product_id} ya existe en el inventario.\")'''"
   ]
  },
  {
   "cell_type": "code",
   "execution_count": null,
   "id": "16d6c1cb",
   "metadata": {},
   "outputs": [],
   "source": [
    "'''\n",
    "# Crear una instancia de la clase Ecommerce\n",
    "mi_ecommerce = Ecommerce(\"Mi Tienda Online\")\n",
    "\n",
    "# Agregar productos\n",
    "dicc_producto = mi_ecommerce.agregar_producto(1, \"Laptop\", 800, 10)\n",
    "dicc_producto = mi_ecommerce.agregar_producto(2, \"Teléfono\", 300, 20)\n",
    "\n",
    "# Agregar clientes\n",
    "dicc_cliente = mi_ecommerce.agregar_cliente(101, \"Juan Pérez\", \"juan@example.com\")\n",
    "dicc_cliente = mi_ecommerce.agregar_cliente(102, \"Ana García\", \"ana@example.com\")\n",
    "\n",
    "# Realizar ventas\n",
    "print(mi_ecommerce.realizar_venta(101, 1, 2))\n",
    "print(mi_ecommerce.realizar_venta(102, 2, 3))\n",
    "\n",
    "\n",
    "# Obtener inventario\n",
    "print(\"Inventario Completo:\")\n",
    "print(mi_ecommerce.obtener_inventario())\n",
    "# Obtener clientes con compras\n",
    "print(\"\\nClientes con Compras:\")\n",
    "print(mi_ecommerce.obtener_clientes(con_compras=True))\n",
    "\n",
    "# Actualizar un producto\n",
    "print(mi_ecommerce.actualizar_producto(1, nombre=\"Nueva Laptop\", precio=900, stock=15))\n",
    "\n",
    "# Buscar productos por nombre\n",
    "print(\"\\nBúsqueda de productos por nombre 'Teléfono':\")\n",
    "print(mi_ecommerce.buscar_producto_por_nombre(\"Teléfono\"))\n",
    "\n",
    "# Calcular ganancias totales\n",
    "print(\"\\nGanancias Totales:\")\n",
    "print(mi_ecommerce.calcular_ganancias())\n",
    "\n",
    "# Obtener los 3 clientes con más compras\n",
    "print(\"\\nMejores Clientes:\")\n",
    "print(mi_ecommerce.obtener_clientes_con_mas_compras(n=3))\n",
    "\n",
    "# Obtener estadísticas de un producto\n",
    "print(\"\\nEstadísticas del Producto 1:\")\n",
    "print(mi_ecommerce.estadisticas_producto(1))\n",
    "\n",
    "'''"
   ]
  },
  {
   "cell_type": "code",
   "execution_count": 123,
   "id": "7a652db4",
   "metadata": {},
   "outputs": [],
   "source": [
    "my_store = Ecommerce(\"MetalHeads of Spain\")"
   ]
  },
  {
   "cell_type": "code",
   "execution_count": 124,
   "id": "d82fd2e4",
   "metadata": {},
   "outputs": [
    {
     "data": {
      "text/plain": [
       "{'name': 'MetalHeads of Spain', 'inventory': [], 'total_sales': 0.0}"
      ]
     },
     "execution_count": 124,
     "metadata": {},
     "output_type": "execute_result"
    }
   ],
   "source": [
    "my_store.__dict__"
   ]
  },
  {
   "cell_type": "code",
   "execution_count": 125,
   "id": "7f2ecd29",
   "metadata": {},
   "outputs": [
    {
     "name": "stdout",
     "output_type": "stream",
     "text": [
      "El producto 'T-shirt' ha sido agregado con éxito.\n"
     ]
    }
   ],
   "source": [
    "my_store.add_product(product_id=1, name=\"T-shirt\", price=20.0, stock=50)"
   ]
  },
  {
   "cell_type": "code",
   "execution_count": 51,
   "id": "42eb63fa",
   "metadata": {},
   "outputs": [
    {
     "data": {
      "text/plain": [
       "'def see_inventory(self):\\n        # Inicializa un diccionario vacío para el inventario\\n        inventory = []\\n        # Itera a través del diccionario de productos\\n        for product_id, product_info in self.inventory.items():\\n            # Extrae información del producto: nombre, precio y stock\\n            name, price, stock = product_info\\n    \\n        # Devuelve el diccionario de inventario con toda la información\\n        return inventory'"
      ]
     },
     "execution_count": 51,
     "metadata": {},
     "output_type": "execute_result"
    }
   ],
   "source": [
    "# ver_inventario(self): Muestra el inventario de productos con sus detalles.Utiliza un bucle for para recorrer el inventario.\n",
    "\n",
    "#Nombre: Camisa, Precio: $20, Cantidad: 50\n",
    "#Nombre: Pantalón, Precio: $30, Cantidad: 30\n",
    "#Nombre: Zapatos, Precio: $50, Cantidad: 40\n",
    "#Nombre: Camisa, Precio: $20, Cant\n",
    "\n",
    "'''def see_inventory(self):\n",
    "        # Inicializa un diccionario vacío para el inventario\n",
    "        inventory = []\n",
    "        # Itera a través del diccionario de productos\n",
    "        for product_id, product_info in self.inventory.items():\n",
    "            # Extrae información del producto: nombre, precio y stock\n",
    "            name, price, stock = product_info\n",
    "    \n",
    "        # Devuelve el diccionario de inventario con toda la información\n",
    "        return inventory'''\n",
    "\n"
   ]
  },
  {
   "cell_type": "code",
   "execution_count": 126,
   "id": "4d0538c4",
   "metadata": {},
   "outputs": [
    {
     "data": {
      "text/plain": [
       "[{'name': 'T-shirt', 'price': 20.0, 'stock': 50}]"
      ]
     },
     "execution_count": 126,
     "metadata": {},
     "output_type": "execute_result"
    }
   ],
   "source": [
    "my_store.inventory"
   ]
  },
  {
   "cell_type": "code",
   "execution_count": 127,
   "id": "42c7c37b",
   "metadata": {},
   "outputs": [
    {
     "name": "stdout",
     "output_type": "stream",
     "text": [
      "El producto 'Trousers' ha sido agregado con éxito.\n"
     ]
    }
   ],
   "source": [
    "my_store.add_product(product_id:=2, name:=\"Trousers\", price:=30.0, stock:=30)"
   ]
  },
  {
   "cell_type": "code",
   "execution_count": 128,
   "id": "ae7b9ff9",
   "metadata": {},
   "outputs": [
    {
     "data": {
      "text/plain": [
       "[{'name': 'T-shirt', 'price': 20.0, 'stock': 50},\n",
       " {'name': 'Trousers', 'price': 30.0, 'stock': 30}]"
      ]
     },
     "execution_count": 128,
     "metadata": {},
     "output_type": "execute_result"
    }
   ],
   "source": [
    "my_store.inventory"
   ]
  },
  {
   "cell_type": "code",
   "execution_count": 129,
   "id": "376469e4",
   "metadata": {},
   "outputs": [
    {
     "name": "stdout",
     "output_type": "stream",
     "text": [
      "El producto 'Shoes' ha sido agregado con éxito.\n"
     ]
    }
   ],
   "source": [
    "my_store.add_product(product_id=3, name=\"Shoes\", price=50.0, stock=40)"
   ]
  },
  {
   "cell_type": "code",
   "execution_count": 130,
   "id": "fda66679",
   "metadata": {},
   "outputs": [
    {
     "data": {
      "text/plain": [
       "[{'name': 'T-shirt', 'price': 20.0, 'stock': 50},\n",
       " {'name': 'Trousers', 'price': 30.0, 'stock': 30},\n",
       " {'name': 'Shoes', 'price': 50.0, 'stock': 40}]"
      ]
     },
     "execution_count": 130,
     "metadata": {},
     "output_type": "execute_result"
    }
   ],
   "source": [
    "my_store.inventory"
   ]
  },
  {
   "cell_type": "code",
   "execution_count": 131,
   "id": "95e41868",
   "metadata": {},
   "outputs": [
    {
     "name": "stdout",
     "output_type": "stream",
     "text": [
      "El producto 'Shirt' ha sido agregado con éxito.\n"
     ]
    }
   ],
   "source": [
    "my_store.add_product(product_id=4, name=\"Shirt\", price=20.0, stock=50)"
   ]
  },
  {
   "cell_type": "code",
   "execution_count": 132,
   "id": "0f65806f",
   "metadata": {},
   "outputs": [
    {
     "data": {
      "text/plain": [
       "[{'name': 'T-shirt', 'price': 20.0, 'stock': 50},\n",
       " {'name': 'Trousers', 'price': 30.0, 'stock': 30},\n",
       " {'name': 'Shoes', 'price': 50.0, 'stock': 40},\n",
       " {'name': 'Shirt', 'price': 20.0, 'stock': 50}]"
      ]
     },
     "execution_count": 132,
     "metadata": {},
     "output_type": "execute_result"
    }
   ],
   "source": [
    "my_store.inventory"
   ]
  },
  {
   "cell_type": "code",
   "execution_count": null,
   "id": "127cb22e",
   "metadata": {},
   "outputs": [],
   "source": [
    "'''mi_inventario = [{'name': 'T-shirt', 'price': 20.0, 'stock': 50},\n",
    " {'name': 'Trousers', 'price': 30.0, 'stock': 30},\n",
    " {'name': 'Shoes', 'price': 50.0, 'stock': 40},\n",
    " {'name': 'Shirt', 'price': 20.0, 'stock': 50}]'''"
   ]
  },
  {
   "cell_type": "code",
   "execution_count": 144,
   "id": "b0619f4c",
   "metadata": {},
   "outputs": [
    {
     "name": "stdout",
     "output_type": "stream",
     "text": [
      "El producto 'Shirt' ha sido agregado con éxito.\n"
     ]
    }
   ],
   "source": [
    "my_store.add_product(product_id=4, name=\"Shirt\", price=40.0, stock=70)"
   ]
  },
  {
   "cell_type": "code",
   "execution_count": 145,
   "id": "67746047",
   "metadata": {},
   "outputs": [
    {
     "data": {
      "text/plain": [
       "[{'name': 'T-shirt', 'price': 20.0, 'stock': 50},\n",
       " {'name': 'Trousers', 'price': 30.0, 'stock': 30},\n",
       " {'name': 'Shoes', 'price': 50.0, 'stock': 40},\n",
       " {'name': 'Shirt', 'price': 20.0, 'stock': 50},\n",
       " {'name': 'Shirt', 'price': 40.0, 'stock': 70},\n",
       " {'name': 'Shirt', 'price': 40.0, 'stock': 70},\n",
       " {'name': 'Shirt', 'price': 40.0, 'stock': 70}]"
      ]
     },
     "execution_count": 145,
     "metadata": {},
     "output_type": "execute_result"
    }
   ],
   "source": [
    "my_store.inventory"
   ]
  }
 ],
 "metadata": {
  "kernelspec": {
   "display_name": "base",
   "language": "python",
   "name": "python3"
  },
  "language_info": {
   "codemirror_mode": {
    "name": "ipython",
    "version": 3
   },
   "file_extension": ".py",
   "mimetype": "text/x-python",
   "name": "python",
   "nbconvert_exporter": "python",
   "pygments_lexer": "ipython3",
   "version": "3.12.7"
  }
 },
 "nbformat": 4,
 "nbformat_minor": 5
}
